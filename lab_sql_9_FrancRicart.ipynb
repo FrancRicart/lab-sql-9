{
 "cells": [
  {
   "cell_type": "markdown",
   "id": "cb03077c",
   "metadata": {},
   "source": [
    "## Instructions\n",
    "Create a Python connection with SQL database and retrieve the results of the following queries as dataframes:\n",
    "\n",
    "1. How many distinct (different) actors' last names are there?\n",
    "2. Add an additional column day_type with values 'weekend' and 'workday' depending on the rental day of the week.\n",
    "3. Get all films with ARMAGEDDON in the title.\n",
    "4. Get 10 the longest films.\n",
    "5. How many films include Behind the Scenes content?\n",
    "6. Which kind of movies (rating) have a mean duration of more than two hours?\n",
    "7. Rank films by length (filter out the rows that have nulls or 0s in length column). In your output, only select the columns title, length, and the rank."
   ]
  },
  {
   "cell_type": "markdown",
   "id": "7e519e42",
   "metadata": {},
   "source": [
    "Create a Python connection with SQL database"
   ]
  },
  {
   "cell_type": "code",
   "execution_count": null,
   "id": "9ff09099",
   "metadata": {},
   "outputs": [],
   "source": [
    "!pip install sqlalchemy\n",
    "!pip install PyMySQL"
   ]
  },
  {
   "cell_type": "code",
   "execution_count": null,
   "id": "c053c9ef",
   "metadata": {},
   "outputs": [],
   "source": [
    "import pymysql\n",
    "from sqlalchemy import create_engine\n",
    "import pandas as pd\n",
    "import getpass\n",
    "password = getpass.getpass()"
   ]
  },
  {
   "cell_type": "code",
   "execution_count": null,
   "id": "1ccf61a7",
   "metadata": {},
   "outputs": [],
   "source": [
    "connection_string = 'mysql+pymysql://root:' + password + '@localhost/sakila'\n",
    "engine = create_engine(connection_string)"
   ]
  },
  {
   "cell_type": "markdown",
   "id": "551fd5fb",
   "metadata": {},
   "source": [
    "1. How many distinct (different) actors' last names are there?"
   ]
  },
  {
   "cell_type": "code",
   "execution_count": null,
   "id": "db6b6f41",
   "metadata": {},
   "outputs": [],
   "source": [
    "data = pd.read_sql_query('select count(distinct last_name) from sakila.actor', engine)\n",
    "data"
   ]
  },
  {
   "cell_type": "markdown",
   "id": "e9a2ac7c",
   "metadata": {},
   "source": [
    "2. Add an additional column day_type with values 'weekend' and 'workday' depending on the rental day of the week."
   ]
  },
  {
   "cell_type": "code",
   "execution_count": null,
   "id": "d93fc508",
   "metadata": {},
   "outputs": [],
   "source": [
    "query = '''select *,\n",
    "case\n",
    "when dayofweek(rental_date) between \"1\" and \"5\" then 'workday'\n",
    "when dayofweek(rental_date) between \"6\" and \"7\" then 'weekend'\n",
    "#else 'weekend'\n",
    "end as day_type\n",
    "from rental;'''\n",
    "rental_date = pd.read_sql_query(query, engine)\n",
    "rental_date.head()"
   ]
  },
  {
   "cell_type": "markdown",
   "id": "b1e82960",
   "metadata": {},
   "source": [
    "3. Get all films with ARMAGEDDON in the title."
   ]
  },
  {
   "cell_type": "code",
   "execution_count": null,
   "id": "6d3d33fe",
   "metadata": {},
   "outputs": [],
   "source": [
    "query = '''select title as 'Films' from sakila.film where (lower(title) like '%ARMAGEDDON%');'''\n",
    "armageddon = pd.read_sql_query(query, engine)\n",
    "armageddon.head()"
   ]
  },
  {
   "cell_type": "markdown",
   "id": "83be741b",
   "metadata": {},
   "source": [
    "4. Get 10 the longest films"
   ]
  },
  {
   "cell_type": "code",
   "execution_count": null,
   "id": "e483ab45",
   "metadata": {},
   "outputs": [],
   "source": [
    "# 4. Get 10 the longest films.\n",
    "query= '''select title, length from sakila.film\n",
    "order by length DESC\n",
    "limit 10;'''\n",
    "longest_films = pd.read_sql_query(query, engine)\n",
    "longest_films.head()"
   ]
  },
  {
   "cell_type": "markdown",
   "id": "449e10c7",
   "metadata": {},
   "source": [
    "5. How many films include Behind the Scenes content?"
   ]
  },
  {
   "cell_type": "code",
   "execution_count": null,
   "id": "308d2fe3",
   "metadata": {},
   "outputs": [],
   "source": [
    "# 5.How many films include Behind the Scenes content?\n",
    "# 538 films included Behind the Scenes content\n",
    "query = '''select count(film_id) from sakila.film\n",
    "where special_features like '%Behind the Scenes%';'''\n",
    "behind = pd.read_sql_query(query, engine)\n",
    "behind.head()"
   ]
  },
  {
   "cell_type": "markdown",
   "id": "c7b160b0",
   "metadata": {},
   "source": [
    "6. Which kind of movies (rating) have a mean duration of more than two hours?"
   ]
  },
  {
   "cell_type": "code",
   "execution_count": null,
   "id": "7c1af0ef",
   "metadata": {},
   "outputs": [],
   "source": [
    "# 6. Which kind of movies (rating) have a mean duration of more than two hours?\n",
    "# G, PG, NC-17, R and PG-13 movies have a mean duration of +2h hours\n",
    "query='''select rating as 'Rating',\n",
    "round(avg(length)) as 'Length Avg'  \n",
    "from sakila.film\n",
    "where length > 120\n",
    "group by rating;'''\n",
    "movie_rating = pd.read_sql_query(query, engine)\n",
    "movie_rating.head()"
   ]
  },
  {
   "cell_type": "markdown",
   "id": "34c6d538",
   "metadata": {},
   "source": [
    "7. Rank films by length (filter out the rows that have nulls or 0s in length column). In your output, only select the columns title, length, and the rank."
   ]
  },
  {
   "cell_type": "code",
   "execution_count": null,
   "id": "cbb3390f",
   "metadata": {},
   "outputs": [],
   "source": [
    "# 7. Rank films by length (filter out the rows that have nulls or 0s in length column). In your output, only select the columns title, length, and the rank.\n",
    "query='''select title, length, dense_rank() over(order by length) as 'rank'\n",
    "from sakila.film\n",
    "where length <> 0 and length <> ' '\n",
    "order by length ASC;'''\n",
    "rank_length=pd.read_sql_query(query, engine)\n",
    "rank_length.head()"
   ]
  }
 ],
 "metadata": {
  "kernelspec": {
   "display_name": "Python 3 (ipykernel)",
   "language": "python",
   "name": "python3"
  },
  "language_info": {
   "codemirror_mode": {
    "name": "ipython",
    "version": 3
   },
   "file_extension": ".py",
   "mimetype": "text/x-python",
   "name": "python",
   "nbconvert_exporter": "python",
   "pygments_lexer": "ipython3",
   "version": "3.9.12"
  }
 },
 "nbformat": 4,
 "nbformat_minor": 5
}
